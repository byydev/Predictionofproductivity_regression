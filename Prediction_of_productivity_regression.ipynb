{
 "cells": [
  {
   "cell_type": "code",
   "execution_count": 1,
   "id": "bca0516c",
   "metadata": {
    "_cell_guid": "b1076dfc-b9ad-4769-8c92-a6c4dae69d19",
    "_uuid": "8f2839f25d086af736a60e9eeb907d3b93b6e0e5",
    "execution": {
     "iopub.execute_input": "2025-10-04T22:02:08.923387Z",
     "iopub.status.busy": "2025-10-04T22:02:08.922992Z",
     "iopub.status.idle": "2025-10-04T22:02:11.127577Z",
     "shell.execute_reply": "2025-10-04T22:02:11.126310Z"
    },
    "papermill": {
     "duration": 2.210529,
     "end_time": "2025-10-04T22:02:11.129283",
     "exception": false,
     "start_time": "2025-10-04T22:02:08.918754",
     "status": "completed"
    },
    "tags": []
   },
   "outputs": [
    {
     "name": "stdout",
     "output_type": "stream",
     "text": [
      "/kaggle/input/productivity-prediction-of-garment-employees/garments_worker_productivity.csv\n"
     ]
    }
   ],
   "source": [
    "# This Python 3 environment comes with many helpful analytics libraries installed\n",
    "# It is defined by the kaggle/python Docker image: https://github.com/kaggle/docker-python\n",
    "# For example, here's several helpful packages to load\n",
    "\n",
    "import numpy as np # linear algebra\n",
    "import pandas as pd # data processing, CSV file I/O (e.g. pd.read_csv)\n",
    "\n",
    "# Input data files are available in the read-only \"../input/\" directory\n",
    "# For example, running this (by clicking run or pressing Shift+Enter) will list all files under the input directory\n",
    "\n",
    "import os\n",
    "for dirname, _, filenames in os.walk('/kaggle/input'):\n",
    "    for filename in filenames:\n",
    "        print(os.path.join(dirname, filename))\n",
    "\n",
    "# You can write up to 20GB to the current directory (/kaggle/working/) that gets preserved as output when you create a version using \"Save & Run All\" \n",
    "# You can also write temporary files to /kaggle/temp/, but they won't be saved outside of the current session"
   ]
  },
  {
   "cell_type": "markdown",
   "id": "69372ab5",
   "metadata": {
    "papermill": {
     "duration": 0.002059,
     "end_time": "2025-10-04T22:02:11.134318",
     "exception": false,
     "start_time": "2025-10-04T22:02:11.132259",
     "status": "completed"
    },
    "tags": []
   },
   "source": [
    "# Dataset \n",
    "\n",
    "This dataset is originally from the UCI Machine Learning Repository:  \n",
    "\n",
    "Dua, D. and Graff, C. (2019).  \n",
    "UCI Machine Learning Repository [http://archive.ics.uci.edu/ml].  \n",
    "Irvine, CA: University of California, School of Information and Computer Science.  \n",
    "\n",
    "The dataset was introduced in the following paper:  \n",
    "\n",
    "Abdullah Al Imran, Md Shamsur Rahim, Tanvir Ahmed (2021).  \n",
    "*Mining the productivity data of the garment industry.*  \n",
    "International Journal of Business Intelligence and Data Mining.\n",
    "\n",
    "https://archive.ics.uci.edu/dataset/597/productivity+prediction+of+garment+employees"
   ]
  },
  {
   "cell_type": "markdown",
   "id": "074be80c",
   "metadata": {
    "papermill": {
     "duration": 0.001997,
     "end_time": "2025-10-04T22:02:11.138980",
     "exception": false,
     "start_time": "2025-10-04T22:02:11.136983",
     "status": "completed"
    },
    "tags": []
   },
   "source": [
    "# Dataset Information\n",
    "\n",
    "* 01\tdate\t\t\t:\tDate in MM-DD-YYYY\n",
    "* 02\tday\t\t\t:\tDay of the Week\n",
    "* 03\tquarter\t\t\t:\tA portion of the month. A month was divided into four quarters\n",
    "* 04\tdepartment\t\t:\tAssociated department with the instance\n",
    "* 05\tteam_no\t\t\t:\tAssociated team number with the instance\n",
    "* 06\tno_of_workers\t\t:\tNumber of workers in each team\n",
    "* 07\tno_of_style_change\t:\tNumber of changes in the style of a particular product\n",
    "* 08\ttargeted_productivity\t:\tTargeted productivity set by the Authority for each team for each day.\n",
    "* 09\tsmv\t\t\t:\tStandard Minute Value, it is the allocated time for a task\n",
    "* 10\twip\t\t\t:\tWork in progress. Includes the number of unfinished items for products\n",
    "* 11\tover_time\t\t:\tRepresents the amount of overtime by each team in minutes\n",
    "* 12\tincentive\t\t:\tRepresents the amount of financial incentive (in BDT) that enables or motivates a particular course of action.\n",
    "* 13\tidle_time\t\t:\tThe amount of time when the production was interrupted due to several reasons\n",
    "* 14\tidle_men\t\t:\tThe number of workers who were idle due to production interruption\n",
    "* 15\tactual_productivity\t:\tThe actual % of productivity that was delivered by the workers. It ranges from 0-1."
   ]
  },
  {
   "cell_type": "code",
   "execution_count": 2,
   "id": "f8d49b5f",
   "metadata": {
    "execution": {
     "iopub.execute_input": "2025-10-04T22:02:11.145300Z",
     "iopub.status.busy": "2025-10-04T22:02:11.144325Z",
     "iopub.status.idle": "2025-10-04T22:02:13.416386Z",
     "shell.execute_reply": "2025-10-04T22:02:13.414895Z"
    },
    "papermill": {
     "duration": 2.277339,
     "end_time": "2025-10-04T22:02:13.418498",
     "exception": false,
     "start_time": "2025-10-04T22:02:11.141159",
     "status": "completed"
    },
    "tags": []
   },
   "outputs": [],
   "source": [
    "import matplotlib.pyplot as plt\n",
    "import seaborn as sns"
   ]
  },
  {
   "cell_type": "code",
   "execution_count": 3,
   "id": "ffce8f81",
   "metadata": {
    "execution": {
     "iopub.execute_input": "2025-10-04T22:02:13.425086Z",
     "iopub.status.busy": "2025-10-04T22:02:13.424576Z",
     "iopub.status.idle": "2025-10-04T22:02:13.457859Z",
     "shell.execute_reply": "2025-10-04T22:02:13.456644Z"
    },
    "papermill": {
     "duration": 0.038795,
     "end_time": "2025-10-04T22:02:13.459732",
     "exception": false,
     "start_time": "2025-10-04T22:02:13.420937",
     "status": "completed"
    },
    "tags": []
   },
   "outputs": [],
   "source": [
    "df = pd.read_csv(\"/kaggle/input/productivity-prediction-of-garment-employees/garments_worker_productivity.csv\")"
   ]
  },
  {
   "cell_type": "code",
   "execution_count": 4,
   "id": "d5221749",
   "metadata": {
    "execution": {
     "iopub.execute_input": "2025-10-04T22:02:13.465970Z",
     "iopub.status.busy": "2025-10-04T22:02:13.465626Z",
     "iopub.status.idle": "2025-10-04T22:02:13.499131Z",
     "shell.execute_reply": "2025-10-04T22:02:13.497877Z"
    },
    "papermill": {
     "duration": 0.038477,
     "end_time": "2025-10-04T22:02:13.500740",
     "exception": false,
     "start_time": "2025-10-04T22:02:13.462263",
     "status": "completed"
    },
    "tags": []
   },
   "outputs": [
    {
     "name": "stdout",
     "output_type": "stream",
     "text": [
      "<class 'pandas.core.frame.DataFrame'>\n",
      "RangeIndex: 1197 entries, 0 to 1196\n",
      "Data columns (total 15 columns):\n",
      " #   Column                 Non-Null Count  Dtype  \n",
      "---  ------                 --------------  -----  \n",
      " 0   date                   1197 non-null   object \n",
      " 1   quarter                1197 non-null   object \n",
      " 2   department             1197 non-null   object \n",
      " 3   day                    1197 non-null   object \n",
      " 4   team                   1197 non-null   int64  \n",
      " 5   targeted_productivity  1197 non-null   float64\n",
      " 6   smv                    1197 non-null   float64\n",
      " 7   wip                    691 non-null    float64\n",
      " 8   over_time              1197 non-null   int64  \n",
      " 9   incentive              1197 non-null   int64  \n",
      " 10  idle_time              1197 non-null   float64\n",
      " 11  idle_men               1197 non-null   int64  \n",
      " 12  no_of_style_change     1197 non-null   int64  \n",
      " 13  no_of_workers          1197 non-null   float64\n",
      " 14  actual_productivity    1197 non-null   float64\n",
      "dtypes: float64(6), int64(5), object(4)\n",
      "memory usage: 140.4+ KB\n"
     ]
    }
   ],
   "source": [
    "df.info()"
   ]
  },
  {
   "cell_type": "code",
   "execution_count": 5,
   "id": "8f8c019f",
   "metadata": {
    "execution": {
     "iopub.execute_input": "2025-10-04T22:02:13.506783Z",
     "iopub.status.busy": "2025-10-04T22:02:13.506449Z",
     "iopub.status.idle": "2025-10-04T22:02:13.537219Z",
     "shell.execute_reply": "2025-10-04T22:02:13.536200Z"
    },
    "papermill": {
     "duration": 0.035612,
     "end_time": "2025-10-04T22:02:13.538860",
     "exception": false,
     "start_time": "2025-10-04T22:02:13.503248",
     "status": "completed"
    },
    "tags": []
   },
   "outputs": [
    {
     "name": "stderr",
     "output_type": "stream",
     "text": [
      "/usr/local/lib/python3.11/dist-packages/pandas/io/formats/format.py:1458: RuntimeWarning: invalid value encountered in greater\n",
      "  has_large_values = (abs_vals > 1e6).any()\n",
      "/usr/local/lib/python3.11/dist-packages/pandas/io/formats/format.py:1459: RuntimeWarning: invalid value encountered in less\n",
      "  has_small_values = ((abs_vals < 10 ** (-self.digits)) & (abs_vals > 0)).any()\n",
      "/usr/local/lib/python3.11/dist-packages/pandas/io/formats/format.py:1459: RuntimeWarning: invalid value encountered in greater\n",
      "  has_small_values = ((abs_vals < 10 ** (-self.digits)) & (abs_vals > 0)).any()\n"
     ]
    },
    {
     "data": {
      "text/html": [
       "<div>\n",
       "<style scoped>\n",
       "    .dataframe tbody tr th:only-of-type {\n",
       "        vertical-align: middle;\n",
       "    }\n",
       "\n",
       "    .dataframe tbody tr th {\n",
       "        vertical-align: top;\n",
       "    }\n",
       "\n",
       "    .dataframe thead th {\n",
       "        text-align: right;\n",
       "    }\n",
       "</style>\n",
       "<table border=\"1\" class=\"dataframe\">\n",
       "  <thead>\n",
       "    <tr style=\"text-align: right;\">\n",
       "      <th></th>\n",
       "      <th>date</th>\n",
       "      <th>quarter</th>\n",
       "      <th>department</th>\n",
       "      <th>day</th>\n",
       "      <th>team</th>\n",
       "      <th>targeted_productivity</th>\n",
       "      <th>smv</th>\n",
       "      <th>wip</th>\n",
       "      <th>over_time</th>\n",
       "      <th>incentive</th>\n",
       "      <th>idle_time</th>\n",
       "      <th>idle_men</th>\n",
       "      <th>no_of_style_change</th>\n",
       "      <th>no_of_workers</th>\n",
       "      <th>actual_productivity</th>\n",
       "    </tr>\n",
       "  </thead>\n",
       "  <tbody>\n",
       "    <tr>\n",
       "      <th>0</th>\n",
       "      <td>1/1/2015</td>\n",
       "      <td>Quarter1</td>\n",
       "      <td>sweing</td>\n",
       "      <td>Thursday</td>\n",
       "      <td>8</td>\n",
       "      <td>0.80</td>\n",
       "      <td>26.16</td>\n",
       "      <td>1108.0</td>\n",
       "      <td>7080</td>\n",
       "      <td>98</td>\n",
       "      <td>0.0</td>\n",
       "      <td>0</td>\n",
       "      <td>0</td>\n",
       "      <td>59.0</td>\n",
       "      <td>0.940725</td>\n",
       "    </tr>\n",
       "    <tr>\n",
       "      <th>1</th>\n",
       "      <td>1/1/2015</td>\n",
       "      <td>Quarter1</td>\n",
       "      <td>finishing</td>\n",
       "      <td>Thursday</td>\n",
       "      <td>1</td>\n",
       "      <td>0.75</td>\n",
       "      <td>3.94</td>\n",
       "      <td>NaN</td>\n",
       "      <td>960</td>\n",
       "      <td>0</td>\n",
       "      <td>0.0</td>\n",
       "      <td>0</td>\n",
       "      <td>0</td>\n",
       "      <td>8.0</td>\n",
       "      <td>0.886500</td>\n",
       "    </tr>\n",
       "    <tr>\n",
       "      <th>2</th>\n",
       "      <td>1/1/2015</td>\n",
       "      <td>Quarter1</td>\n",
       "      <td>sweing</td>\n",
       "      <td>Thursday</td>\n",
       "      <td>11</td>\n",
       "      <td>0.80</td>\n",
       "      <td>11.41</td>\n",
       "      <td>968.0</td>\n",
       "      <td>3660</td>\n",
       "      <td>50</td>\n",
       "      <td>0.0</td>\n",
       "      <td>0</td>\n",
       "      <td>0</td>\n",
       "      <td>30.5</td>\n",
       "      <td>0.800570</td>\n",
       "    </tr>\n",
       "    <tr>\n",
       "      <th>3</th>\n",
       "      <td>1/1/2015</td>\n",
       "      <td>Quarter1</td>\n",
       "      <td>sweing</td>\n",
       "      <td>Thursday</td>\n",
       "      <td>12</td>\n",
       "      <td>0.80</td>\n",
       "      <td>11.41</td>\n",
       "      <td>968.0</td>\n",
       "      <td>3660</td>\n",
       "      <td>50</td>\n",
       "      <td>0.0</td>\n",
       "      <td>0</td>\n",
       "      <td>0</td>\n",
       "      <td>30.5</td>\n",
       "      <td>0.800570</td>\n",
       "    </tr>\n",
       "    <tr>\n",
       "      <th>4</th>\n",
       "      <td>1/1/2015</td>\n",
       "      <td>Quarter1</td>\n",
       "      <td>sweing</td>\n",
       "      <td>Thursday</td>\n",
       "      <td>6</td>\n",
       "      <td>0.80</td>\n",
       "      <td>25.90</td>\n",
       "      <td>1170.0</td>\n",
       "      <td>1920</td>\n",
       "      <td>50</td>\n",
       "      <td>0.0</td>\n",
       "      <td>0</td>\n",
       "      <td>0</td>\n",
       "      <td>56.0</td>\n",
       "      <td>0.800382</td>\n",
       "    </tr>\n",
       "  </tbody>\n",
       "</table>\n",
       "</div>"
      ],
      "text/plain": [
       "       date   quarter  department       day  team  targeted_productivity  \\\n",
       "0  1/1/2015  Quarter1      sweing  Thursday     8                   0.80   \n",
       "1  1/1/2015  Quarter1  finishing   Thursday     1                   0.75   \n",
       "2  1/1/2015  Quarter1      sweing  Thursday    11                   0.80   \n",
       "3  1/1/2015  Quarter1      sweing  Thursday    12                   0.80   \n",
       "4  1/1/2015  Quarter1      sweing  Thursday     6                   0.80   \n",
       "\n",
       "     smv     wip  over_time  incentive  idle_time  idle_men  \\\n",
       "0  26.16  1108.0       7080         98        0.0         0   \n",
       "1   3.94     NaN        960          0        0.0         0   \n",
       "2  11.41   968.0       3660         50        0.0         0   \n",
       "3  11.41   968.0       3660         50        0.0         0   \n",
       "4  25.90  1170.0       1920         50        0.0         0   \n",
       "\n",
       "   no_of_style_change  no_of_workers  actual_productivity  \n",
       "0                   0           59.0             0.940725  \n",
       "1                   0            8.0             0.886500  \n",
       "2                   0           30.5             0.800570  \n",
       "3                   0           30.5             0.800570  \n",
       "4                   0           56.0             0.800382  "
      ]
     },
     "execution_count": 5,
     "metadata": {},
     "output_type": "execute_result"
    }
   ],
   "source": [
    "df.head()"
   ]
  },
  {
   "cell_type": "code",
   "execution_count": null,
   "id": "2cfa1d34",
   "metadata": {
    "papermill": {
     "duration": 0.002385,
     "end_time": "2025-10-04T22:02:13.544312",
     "exception": false,
     "start_time": "2025-10-04T22:02:13.541927",
     "status": "completed"
    },
    "tags": []
   },
   "outputs": [],
   "source": []
  }
 ],
 "metadata": {
  "kaggle": {
   "accelerator": "none",
   "dataSources": [
    {
     "datasetId": 8405155,
     "sourceId": 13263657,
     "sourceType": "datasetVersion"
    }
   ],
   "dockerImageVersionId": 31089,
   "isGpuEnabled": false,
   "isInternetEnabled": true,
   "language": "python",
   "sourceType": "notebook"
  },
  "kernelspec": {
   "display_name": "Python 3",
   "language": "python",
   "name": "python3"
  },
  "language_info": {
   "codemirror_mode": {
    "name": "ipython",
    "version": 3
   },
   "file_extension": ".py",
   "mimetype": "text/x-python",
   "name": "python",
   "nbconvert_exporter": "python",
   "pygments_lexer": "ipython3",
   "version": "3.11.13"
  },
  "papermill": {
   "default_parameters": {},
   "duration": 11.875125,
   "end_time": "2025-10-04T22:02:14.269620",
   "environment_variables": {},
   "exception": null,
   "input_path": "__notebook__.ipynb",
   "output_path": "__notebook__.ipynb",
   "parameters": {},
   "start_time": "2025-10-04T22:02:02.394495",
   "version": "2.6.0"
  }
 },
 "nbformat": 4,
 "nbformat_minor": 5
}
